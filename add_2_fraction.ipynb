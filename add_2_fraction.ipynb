{
 "cells": [
  {
   "cell_type": "code",
   "execution_count": 1,
   "id": "89fdb0dd",
   "metadata": {},
   "outputs": [],
   "source": [
    "#Your task is to complete this function\n",
    "#Your shouldn't return any thing it should print the required output\n",
    "from fractions import Fraction\n",
    "\n",
    "def addFraction(num1, den1, num2, den2):\n",
    "    num_final = num1*den2 + num2*den1\n",
    "    den_final = den1*den2\n",
    "    print(Fraction(num_final,den_final))"
   ]
  },
  {
   "cell_type": "code",
   "execution_count": 2,
   "id": "f1449af0",
   "metadata": {},
   "outputs": [
    {
     "name": "stdout",
     "output_type": "stream",
     "text": [
      "[1, 2, 3, 4, 5]\n"
     ]
    }
   ],
   "source": [
    "a = [1,2,3,4,5]\n",
    "print(a)"
   ]
  },
  {
   "cell_type": "code",
   "execution_count": null,
   "id": "d30b359d",
   "metadata": {},
   "outputs": [],
   "source": []
  }
 ],
 "metadata": {
  "kernelspec": {
   "display_name": "Python 3",
   "language": "python",
   "name": "python3"
  },
  "language_info": {
   "codemirror_mode": {
    "name": "ipython",
    "version": 3
   },
   "file_extension": ".py",
   "mimetype": "text/x-python",
   "name": "python",
   "nbconvert_exporter": "python",
   "pygments_lexer": "ipython3",
   "version": "3.12.3"
  }
 },
 "nbformat": 4,
 "nbformat_minor": 5
}
