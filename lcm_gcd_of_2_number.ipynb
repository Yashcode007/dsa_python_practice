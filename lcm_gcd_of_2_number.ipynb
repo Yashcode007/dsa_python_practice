{
 "cells": [
  {
   "cell_type": "code",
   "execution_count": 3,
   "id": "0d69f512",
   "metadata": {},
   "outputs": [],
   "source": [
    "from typing import List"
   ]
  },
  {
   "cell_type": "code",
   "execution_count": 4,
   "id": "791f4e02",
   "metadata": {},
   "outputs": [],
   "source": [
    "class Solution:\n",
    "    def lcmAndGcd(self, a : int, b : int) -> List[int]:\n",
    "        gcd=1\n",
    "        lcm=1\n",
    "        for i in range(1, min(a,b)+1):\n",
    "            if a%i==0 and b%i==0 :\n",
    "                gcd=i\n",
    "        \n",
    "        for i in range(min(a,b),a*b+1,min(a,b)):\n",
    "            if i%max(a,b)==0: \n",
    "                lcm=i\n",
    "                break\n",
    "        return [lcm,gcd]"
   ]
  },
  {
   "cell_type": "code",
   "execution_count": null,
   "id": "bafc1d32",
   "metadata": {},
   "outputs": [],
   "source": []
  }
 ],
 "metadata": {
  "kernelspec": {
   "display_name": "Python 3",
   "language": "python",
   "name": "python3"
  },
  "language_info": {
   "codemirror_mode": {
    "name": "ipython",
    "version": 3
   },
   "file_extension": ".py",
   "mimetype": "text/x-python",
   "name": "python",
   "nbconvert_exporter": "python",
   "pygments_lexer": "ipython3",
   "version": "3.12.3"
  }
 },
 "nbformat": 4,
 "nbformat_minor": 5
}
